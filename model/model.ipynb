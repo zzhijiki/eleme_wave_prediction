{
 "nbformat": 4,
 "nbformat_minor": 2,
 "metadata": {
  "language_info": {
   "name": "python",
   "codemirror_mode": {
    "name": "ipython",
    "version": 3
   },
   "version": "3.7.6-final"
  },
  "orig_nbformat": 2,
  "file_extension": ".py",
  "mimetype": "text/x-python",
  "name": "python",
  "npconvert_exporter": "python",
  "pygments_lexer": "ipython3",
  "version": 3,
  "kernelspec": {
   "name": "python3",
   "display_name": "Python 3"
  }
 },
 "cells": [
  {
   "cell_type": "code",
   "execution_count": 1,
   "metadata": {},
   "outputs": [],
   "source": [
    "import numpy as np\n",
    "import pandas as pd\n",
    "import warnings\n",
    "import os\n",
    "from tqdm import tqdm\n",
    "import lightgbm as lgb\n",
    "import matplotlib.pyplot as plt\n",
    "import seaborn as sns\n",
    "from joblib import Parallel, delayed\n",
    "from collections import Counter\n",
    "import time \n",
    "import datetime\n",
    "import scipy\n",
    "import matplotlib \n",
    "from sklearn.utils import shuffle\n",
    "import sklearn\n",
    "from sklearn import preprocessing, metrics \n",
    "from sklearn.preprocessing import LabelEncoder\n",
    "from sklearn.model_selection import GroupKFold, KFold, StratifiedKFold\n",
    "from sklearn.model_selection import GridSearchCV\n",
    "from sklearn.utils import shuffle# 随机排列\n",
    "\n",
    "from sklearn import preprocessing\n",
    "import gc\n",
    "import xgboost as xgb \n",
    "import joblib\n",
    "\n",
    "%matplotlib inline\n",
    "\n",
    "pd.set_option('display.max_columns', None)\n",
    "pd.set_option('display.max_rows', None)\n",
    "plt.rcParams['font.family'] = ['sans-serif']\n",
    "plt.rcParams['font.sans-serif'] = ['SimHei']\n",
    "warnings.filterwarnings('ignore')"
   ]
  },
  {
   "cell_type": "code",
   "execution_count": 2,
   "metadata": {},
   "outputs": [],
   "source": [
    "feature_train=pd.read_pickle('../user_data/tmp_data/feature_train.pkl')\n",
    "feature_test=pd.read_pickle('../user_data/tmp_data/feature_test.pkl')\n",
    "\n",
    "feature_train=shuffle(feature_train)"
   ]
  },
  {
   "cell_type": "code",
   "execution_count": 3,
   "metadata": {},
   "outputs": [
    {
     "output_type": "execute_result",
     "data": {
      "text/plain": "                                             0                    1  \\\nmajorid                    20200301100002543_3  20200301100002543_3   \ncourier_id                           100002543            100002543   \nwave_index                                   3                    3   \ndate                                  20200301             20200301   \ntracking_id                2100076045156320581  2100076044413207877   \naction_type                           DELIVERY               PICKUP   \nlast_tracking_id           2100076044139038021  2100076044139038021   \nlast_action_type                        PICKUP               PICKUP   \nload                                         3                    3   \nold_action_1                            PICKUP               PICKUP   \nold_action_2                            PICKUP               PICKUP   \ngrid_distance                          7.76514             0.693147   \ntarget_tan                              1.6421                  NaN   \ntarget_MHD                             5.76837                    0   \nlevel                                        3                    3   \nspeed                                  5.53606              5.53606   \nmax_load                                    10                   10   \nweather_grade                                1                    1   \ndelivery_tan                           1.65893              1.71454   \ndelivery_MHD                           5.76837              5.48071   \nlast_delivery_tan                       1.5638               1.5638   \nlast_delivery_MHD                      6.12909              6.12909   \nassigned_time                       1583036629           1583036809   \npromise_deliver_time                1583039154           1583039641   \nestimate_pick_time                  1583037835           1583038022   \ndelta_time_pc                         0.440905             0.475031   \nlast_assigned_time                  1583037289           1583037289   \nlast_promise_deliver_time           1583040204           1583040204   \nlast_estimate_pick_time             1583038706           1583038706   \nlast_delta_time_pc                    0.289873             0.289873   \nlast_time                           1583038335           1583038335   \nexpect_time                                  0                    0   \nlabel                                     None                 None   \ncourier_wave_start_lng                 121.634              121.634   \ncourier_wave_start_lat                 39.1436              39.1436   \nnow_DELIVERY                                 1                    0   \nnow_PICKUP                                   0                    1   \nlast_DELIVERY                                0                    0   \nlast_PICKUP                                  1                    1   \nold1_DELIVERY                                0                    0   \nold1_PICKUP                                  1                    1   \nold2_DELIVERY                                0                    0   \nold2_PICKUP                                  1                    1   \nnormal                                       1                    1   \na_bit_bad                                    0                    0   \nbad                                          0                    0   \nvary_bad                                     0                    0   \n\n                                             2                    3  \\\nmajorid                    20200301100002543_3  20200301100002543_3   \ncourier_id                           100002543            100002543   \nwave_index                                   3                    3   \ndate                                  20200301             20200301   \ntracking_id                2100076045016368756  2100076044139038021   \naction_type                           DELIVERY             DELIVERY   \nlast_tracking_id           2100076044139038021  2100076044139038021   \nlast_action_type                        PICKUP               PICKUP   \nload                                         3                    3   \nold_action_1                            PICKUP               PICKUP   \nold_action_2                            PICKUP               PICKUP   \ngrid_distance                          8.21744              7.80547   \ntarget_tan                             1.82052              1.54988   \ntarget_MHD                             4.78773              6.12909   \nlevel                                        3                    3   \nspeed                                  5.53606              5.53606   \nmax_load                                    10                   10   \nweather_grade                                1                    1   \ndelivery_tan                          -1.87248              1.56564   \ndelivery_MHD                           4.38114              6.12909   \nlast_delivery_tan                       1.5638               1.5638   \nlast_delivery_MHD                      6.12909              6.12909   \nassigned_time                       1583037829           1583037289   \npromise_deliver_time                1583040530           1583040204   \nestimate_pick_time                  1583038430           1583038706   \ndelta_time_pc                         0.488795             0.481743   \nlast_assigned_time                  1583037289           1583037289   \nlast_promise_deliver_time           1583040204           1583040204   \nlast_estimate_pick_time             1583038706           1583038706   \nlast_delta_time_pc                    0.289873             0.289873   \nlast_time                           1583038335           1583038335   \nexpect_time                                  0                    0   \nlabel                                     None                 None   \ncourier_wave_start_lng                 121.634              121.634   \ncourier_wave_start_lat                 39.1436              39.1436   \nnow_DELIVERY                                 1                    1   \nnow_PICKUP                                   0                    0   \nlast_DELIVERY                                0                    0   \nlast_PICKUP                                  1                    1   \nold1_DELIVERY                                0                    0   \nold1_PICKUP                                  1                    1   \nold2_DELIVERY                                0                    0   \nold2_PICKUP                                  1                    1   \nnormal                                       1                    1   \na_bit_bad                                    0                    0   \nbad                                          0                    0   \nvary_bad                                     0                    0   \n\n                                             4  \nmajorid                    20200301100006950_3  \ncourier_id                           100006950  \nwave_index                                   3  \ndate                                  20200301  \ntracking_id                2100076085507393263  \naction_type                           DELIVERY  \nlast_tracking_id           2100076086461237066  \nlast_action_type                        PICKUP  \nload                                         2  \nold_action_1                            PICKUP  \nold_action_2                          DELIVERY  \ngrid_distance                          7.29438  \ntarget_tan                            0.102299  \ntarget_MHD                             7.34814  \nlevel                                        2  \nspeed                                  5.10844  \nmax_load                                     6  \nweather_grade                                1  \ndelivery_tan                           0.15716  \ndelivery_MHD                           7.39958  \nlast_delivery_tan                     0.327814  \nlast_delivery_MHD                      7.31142  \nassigned_time                       1583060079  \npromise_deliver_time                1583063178  \nestimate_pick_time                  1583061259  \ndelta_time_pc                         0.509157  \nlast_assigned_time                  1583060499  \nlast_promise_deliver_time           1583063341  \nlast_estimate_pick_time             1583061483  \nlast_delta_time_pc                    0.279538  \nlast_time                           1583061548  \nexpect_time                                  0  \nlabel                                     None  \ncourier_wave_start_lng                 121.413  \ncourier_wave_start_lat                 39.0321  \nnow_DELIVERY                                 1  \nnow_PICKUP                                   0  \nlast_DELIVERY                                0  \nlast_PICKUP                                  1  \nold1_DELIVERY                                0  \nold1_PICKUP                                  1  \nold2_DELIVERY                                1  \nold2_PICKUP                                  0  \nnormal                                       1  \na_bit_bad                                    0  \nbad                                          0  \nvary_bad                                     0  ",
      "text/html": "<div>\n<style scoped>\n    .dataframe tbody tr th:only-of-type {\n        vertical-align: middle;\n    }\n\n    .dataframe tbody tr th {\n        vertical-align: top;\n    }\n\n    .dataframe thead th {\n        text-align: right;\n    }\n</style>\n<table border=\"1\" class=\"dataframe\">\n  <thead>\n    <tr style=\"text-align: right;\">\n      <th></th>\n      <th>0</th>\n      <th>1</th>\n      <th>2</th>\n      <th>3</th>\n      <th>4</th>\n    </tr>\n  </thead>\n  <tbody>\n    <tr>\n      <th>majorid</th>\n      <td>20200301100002543_3</td>\n      <td>20200301100002543_3</td>\n      <td>20200301100002543_3</td>\n      <td>20200301100002543_3</td>\n      <td>20200301100006950_3</td>\n    </tr>\n    <tr>\n      <th>courier_id</th>\n      <td>100002543</td>\n      <td>100002543</td>\n      <td>100002543</td>\n      <td>100002543</td>\n      <td>100006950</td>\n    </tr>\n    <tr>\n      <th>wave_index</th>\n      <td>3</td>\n      <td>3</td>\n      <td>3</td>\n      <td>3</td>\n      <td>3</td>\n    </tr>\n    <tr>\n      <th>date</th>\n      <td>20200301</td>\n      <td>20200301</td>\n      <td>20200301</td>\n      <td>20200301</td>\n      <td>20200301</td>\n    </tr>\n    <tr>\n      <th>tracking_id</th>\n      <td>2100076045156320581</td>\n      <td>2100076044413207877</td>\n      <td>2100076045016368756</td>\n      <td>2100076044139038021</td>\n      <td>2100076085507393263</td>\n    </tr>\n    <tr>\n      <th>action_type</th>\n      <td>DELIVERY</td>\n      <td>PICKUP</td>\n      <td>DELIVERY</td>\n      <td>DELIVERY</td>\n      <td>DELIVERY</td>\n    </tr>\n    <tr>\n      <th>last_tracking_id</th>\n      <td>2100076044139038021</td>\n      <td>2100076044139038021</td>\n      <td>2100076044139038021</td>\n      <td>2100076044139038021</td>\n      <td>2100076086461237066</td>\n    </tr>\n    <tr>\n      <th>last_action_type</th>\n      <td>PICKUP</td>\n      <td>PICKUP</td>\n      <td>PICKUP</td>\n      <td>PICKUP</td>\n      <td>PICKUP</td>\n    </tr>\n    <tr>\n      <th>load</th>\n      <td>3</td>\n      <td>3</td>\n      <td>3</td>\n      <td>3</td>\n      <td>2</td>\n    </tr>\n    <tr>\n      <th>old_action_1</th>\n      <td>PICKUP</td>\n      <td>PICKUP</td>\n      <td>PICKUP</td>\n      <td>PICKUP</td>\n      <td>PICKUP</td>\n    </tr>\n    <tr>\n      <th>old_action_2</th>\n      <td>PICKUP</td>\n      <td>PICKUP</td>\n      <td>PICKUP</td>\n      <td>PICKUP</td>\n      <td>DELIVERY</td>\n    </tr>\n    <tr>\n      <th>grid_distance</th>\n      <td>7.76514</td>\n      <td>0.693147</td>\n      <td>8.21744</td>\n      <td>7.80547</td>\n      <td>7.29438</td>\n    </tr>\n    <tr>\n      <th>target_tan</th>\n      <td>1.6421</td>\n      <td>NaN</td>\n      <td>1.82052</td>\n      <td>1.54988</td>\n      <td>0.102299</td>\n    </tr>\n    <tr>\n      <th>target_MHD</th>\n      <td>5.76837</td>\n      <td>0</td>\n      <td>4.78773</td>\n      <td>6.12909</td>\n      <td>7.34814</td>\n    </tr>\n    <tr>\n      <th>level</th>\n      <td>3</td>\n      <td>3</td>\n      <td>3</td>\n      <td>3</td>\n      <td>2</td>\n    </tr>\n    <tr>\n      <th>speed</th>\n      <td>5.53606</td>\n      <td>5.53606</td>\n      <td>5.53606</td>\n      <td>5.53606</td>\n      <td>5.10844</td>\n    </tr>\n    <tr>\n      <th>max_load</th>\n      <td>10</td>\n      <td>10</td>\n      <td>10</td>\n      <td>10</td>\n      <td>6</td>\n    </tr>\n    <tr>\n      <th>weather_grade</th>\n      <td>1</td>\n      <td>1</td>\n      <td>1</td>\n      <td>1</td>\n      <td>1</td>\n    </tr>\n    <tr>\n      <th>delivery_tan</th>\n      <td>1.65893</td>\n      <td>1.71454</td>\n      <td>-1.87248</td>\n      <td>1.56564</td>\n      <td>0.15716</td>\n    </tr>\n    <tr>\n      <th>delivery_MHD</th>\n      <td>5.76837</td>\n      <td>5.48071</td>\n      <td>4.38114</td>\n      <td>6.12909</td>\n      <td>7.39958</td>\n    </tr>\n    <tr>\n      <th>last_delivery_tan</th>\n      <td>1.5638</td>\n      <td>1.5638</td>\n      <td>1.5638</td>\n      <td>1.5638</td>\n      <td>0.327814</td>\n    </tr>\n    <tr>\n      <th>last_delivery_MHD</th>\n      <td>6.12909</td>\n      <td>6.12909</td>\n      <td>6.12909</td>\n      <td>6.12909</td>\n      <td>7.31142</td>\n    </tr>\n    <tr>\n      <th>assigned_time</th>\n      <td>1583036629</td>\n      <td>1583036809</td>\n      <td>1583037829</td>\n      <td>1583037289</td>\n      <td>1583060079</td>\n    </tr>\n    <tr>\n      <th>promise_deliver_time</th>\n      <td>1583039154</td>\n      <td>1583039641</td>\n      <td>1583040530</td>\n      <td>1583040204</td>\n      <td>1583063178</td>\n    </tr>\n    <tr>\n      <th>estimate_pick_time</th>\n      <td>1583037835</td>\n      <td>1583038022</td>\n      <td>1583038430</td>\n      <td>1583038706</td>\n      <td>1583061259</td>\n    </tr>\n    <tr>\n      <th>delta_time_pc</th>\n      <td>0.440905</td>\n      <td>0.475031</td>\n      <td>0.488795</td>\n      <td>0.481743</td>\n      <td>0.509157</td>\n    </tr>\n    <tr>\n      <th>last_assigned_time</th>\n      <td>1583037289</td>\n      <td>1583037289</td>\n      <td>1583037289</td>\n      <td>1583037289</td>\n      <td>1583060499</td>\n    </tr>\n    <tr>\n      <th>last_promise_deliver_time</th>\n      <td>1583040204</td>\n      <td>1583040204</td>\n      <td>1583040204</td>\n      <td>1583040204</td>\n      <td>1583063341</td>\n    </tr>\n    <tr>\n      <th>last_estimate_pick_time</th>\n      <td>1583038706</td>\n      <td>1583038706</td>\n      <td>1583038706</td>\n      <td>1583038706</td>\n      <td>1583061483</td>\n    </tr>\n    <tr>\n      <th>last_delta_time_pc</th>\n      <td>0.289873</td>\n      <td>0.289873</td>\n      <td>0.289873</td>\n      <td>0.289873</td>\n      <td>0.279538</td>\n    </tr>\n    <tr>\n      <th>last_time</th>\n      <td>1583038335</td>\n      <td>1583038335</td>\n      <td>1583038335</td>\n      <td>1583038335</td>\n      <td>1583061548</td>\n    </tr>\n    <tr>\n      <th>expect_time</th>\n      <td>0</td>\n      <td>0</td>\n      <td>0</td>\n      <td>0</td>\n      <td>0</td>\n    </tr>\n    <tr>\n      <th>label</th>\n      <td>None</td>\n      <td>None</td>\n      <td>None</td>\n      <td>None</td>\n      <td>None</td>\n    </tr>\n    <tr>\n      <th>courier_wave_start_lng</th>\n      <td>121.634</td>\n      <td>121.634</td>\n      <td>121.634</td>\n      <td>121.634</td>\n      <td>121.413</td>\n    </tr>\n    <tr>\n      <th>courier_wave_start_lat</th>\n      <td>39.1436</td>\n      <td>39.1436</td>\n      <td>39.1436</td>\n      <td>39.1436</td>\n      <td>39.0321</td>\n    </tr>\n    <tr>\n      <th>now_DELIVERY</th>\n      <td>1</td>\n      <td>0</td>\n      <td>1</td>\n      <td>1</td>\n      <td>1</td>\n    </tr>\n    <tr>\n      <th>now_PICKUP</th>\n      <td>0</td>\n      <td>1</td>\n      <td>0</td>\n      <td>0</td>\n      <td>0</td>\n    </tr>\n    <tr>\n      <th>last_DELIVERY</th>\n      <td>0</td>\n      <td>0</td>\n      <td>0</td>\n      <td>0</td>\n      <td>0</td>\n    </tr>\n    <tr>\n      <th>last_PICKUP</th>\n      <td>1</td>\n      <td>1</td>\n      <td>1</td>\n      <td>1</td>\n      <td>1</td>\n    </tr>\n    <tr>\n      <th>old1_DELIVERY</th>\n      <td>0</td>\n      <td>0</td>\n      <td>0</td>\n      <td>0</td>\n      <td>0</td>\n    </tr>\n    <tr>\n      <th>old1_PICKUP</th>\n      <td>1</td>\n      <td>1</td>\n      <td>1</td>\n      <td>1</td>\n      <td>1</td>\n    </tr>\n    <tr>\n      <th>old2_DELIVERY</th>\n      <td>0</td>\n      <td>0</td>\n      <td>0</td>\n      <td>0</td>\n      <td>1</td>\n    </tr>\n    <tr>\n      <th>old2_PICKUP</th>\n      <td>1</td>\n      <td>1</td>\n      <td>1</td>\n      <td>1</td>\n      <td>0</td>\n    </tr>\n    <tr>\n      <th>normal</th>\n      <td>1</td>\n      <td>1</td>\n      <td>1</td>\n      <td>1</td>\n      <td>1</td>\n    </tr>\n    <tr>\n      <th>a_bit_bad</th>\n      <td>0</td>\n      <td>0</td>\n      <td>0</td>\n      <td>0</td>\n      <td>0</td>\n    </tr>\n    <tr>\n      <th>bad</th>\n      <td>0</td>\n      <td>0</td>\n      <td>0</td>\n      <td>0</td>\n      <td>0</td>\n    </tr>\n    <tr>\n      <th>vary_bad</th>\n      <td>0</td>\n      <td>0</td>\n      <td>0</td>\n      <td>0</td>\n      <td>0</td>\n    </tr>\n  </tbody>\n</table>\n</div>"
     },
     "metadata": {},
     "execution_count": 3
    }
   ],
   "source": [
    "feature_test.head().T"
   ]
  },
  {
   "cell_type": "code",
   "execution_count": 4,
   "metadata": {},
   "outputs": [
    {
     "output_type": "execute_result",
     "data": {
      "text/plain": "                                        11891                127542  \\\nmajorid                    20200203102748698_2   2020022110804247_2   \ncourier_id                           102748698             10804247   \nwave_index                                   2                    2   \ndate                                  20200203             20200221   \ntracking_id                2100074646372452239  2100075404355864421   \naction_type                           DELIVERY               PICKUP   \nlast_tracking_id           2100074646384641935  2100075423940937573   \nlast_action_type                        PICKUP               PICKUP   \nload                                         3                    2   \nold_action_1                            PICKUP               PICKUP   \nold_action_2                            PICKUP             DELIVERY   \ngrid_distance                          7.79647             0.693147   \ntarget_tan                            0.867875               1.7471   \ntarget_MHD                             7.10489                    0   \nlevel                                        3                    3   \nspeed                                  4.79992              6.73913   \nmax_load                                    11                   10   \nweather_grade                                1                    1   \ndelivery_tan                          0.971555             -1.64297   \ndelivery_MHD                           7.10489              5.13819   \nlast_delivery_tan                     0.968326             -1.64557   \nlast_delivery_MHD                      7.10489              5.13819   \nassigned_time                       1580706729           1582262035   \npromise_deliver_time                1580708739           1582263900   \nestimate_pick_time                  1580707185           1582209268   \ndelta_time_pc                         0.339438             0.431011   \nlast_assigned_time                  1580706789           1582261975   \nlast_promise_deliver_time           1580708817           1582263900   \nlast_estimate_pick_time             1580707322           1582258691   \nlast_delta_time_pc                    0.351942             0.438705   \nlast_time                           1580707211           1582263039   \nexpect_time                         1580707773           1582263040   \nlabel                                        0                    1   \ncourier_wave_start_lng                 121.564              121.252   \ncourier_wave_start_lat                 39.1346              38.9529   \nnow_DELIVERY                                 1                    0   \nnow_PICKUP                                   0                    1   \nlast_DELIVERY                                0                    0   \nlast_PICKUP                                  1                    1   \nold1_DELIVERY                                0                    0   \nold1_PICKUP                                  1                    1   \nold2_DELIVERY                                0                    1   \nold2_PICKUP                                  1                    0   \nnormal                                       1                    1   \na_bit_bad                                    0                    0   \nbad                                          0                    0   \nvary_bad                                     0                    0   \n\n                                        180587               29815   \\\nmajorid                    20200227122060865_2   2020020610762615_1   \ncourier_id                           122060865             10762615   \nwave_index                                   2                    1   \ndate                                  20200227             20200206   \ntracking_id                2100075822285685908  2100074766019724862   \naction_type                             PICKUP             DELIVERY   \nlast_tracking_id           2100075821644612854  2100074766019724862   \nlast_action_type                      DELIVERY               PICKUP   \nload                                         0                    5   \nold_action_1                            PICKUP               PICKUP   \nold_action_2                          DELIVERY               PICKUP   \ngrid_distance                          7.41156               7.8332   \ntarget_tan                            -1.01199            -0.635686   \ntarget_MHD                             6.63069              7.51104   \nlevel                                        3                    3   \nspeed                                  5.79056              3.68297   \nmax_load                                     9                    9   \nweather_grade                                1                    1   \ndelivery_tan                          0.426564            -0.595572   \ndelivery_MHD                           7.58681              7.51104   \nlast_delivery_tan                    -0.246789            -0.598423   \nlast_delivery_MHD                      7.90504              7.51104   \nassigned_time                       1582786519           1580963329   \npromise_deliver_time                1582790088           1580966252   \nestimate_pick_time                  1582788290           1580964513   \ndelta_time_pc                         0.554806             0.464059   \nlast_assigned_time                  1582785259           1580963329   \nlast_promise_deliver_time           1582787718           1580966252   \nlast_estimate_pick_time             1582786281           1580964513   \nlast_delta_time_pc                    0.421295             0.482014   \nlast_time                           1582787082           1580963768   \nexpect_time                         1582787437           1580965634   \nlabel                                        1                    0   \ncourier_wave_start_lng                 121.653               121.58   \ncourier_wave_start_lat                 39.1733              39.1773   \nnow_DELIVERY                                 0                    1   \nnow_PICKUP                                   1                    0   \nlast_DELIVERY                                1                    0   \nlast_PICKUP                                  0                    1   \nold1_DELIVERY                                0                    0   \nold1_PICKUP                                  1                    1   \nold2_DELIVERY                                1                    0   \nold2_PICKUP                                  0                    1   \nnormal                                       1                    1   \na_bit_bad                                    0                    0   \nbad                                          0                    0   \nvary_bad                                     0                    0   \n\n                                        66000   \nmajorid                     2020021210712014_2  \ncourier_id                            10712014  \nwave_index                                   2  \ndate                                  20200212  \ntracking_id                2100075009952187999  \naction_type                           DELIVERY  \nlast_tracking_id           2100075009952187999  \nlast_action_type                        PICKUP  \nload                                         6  \nold_action_1                            PICKUP  \nold_action_2                            PICKUP  \ngrid_distance                          8.27078  \ntarget_tan                            0.534409  \ntarget_MHD                             7.86277  \nlevel                                        3  \nspeed                                  5.25236  \nmax_load                                    10  \nweather_grade                                2  \ndelivery_tan                          0.623992  \ndelivery_MHD                           7.86277  \nlast_delivery_tan                     0.620847  \nlast_delivery_MHD                      7.86277  \nassigned_time                       1581492049  \npromise_deliver_time                1581501035  \nestimate_pick_time                  1581492395  \ndelta_time_pc                         0.431011  \nlast_assigned_time                  1581492049  \nlast_promise_deliver_time           1581501035  \nlast_estimate_pick_time             1581492395  \nlast_delta_time_pc                    0.438705  \nlast_time                           1581499638  \nexpect_time                         1581501113  \nlabel                                        0  \ncourier_wave_start_lng                  121.44  \ncourier_wave_start_lat                 39.1501  \nnow_DELIVERY                                 1  \nnow_PICKUP                                   0  \nlast_DELIVERY                                0  \nlast_PICKUP                                  1  \nold1_DELIVERY                                0  \nold1_PICKUP                                  1  \nold2_DELIVERY                                0  \nold2_PICKUP                                  1  \nnormal                                       0  \na_bit_bad                                    1  \nbad                                          0  \nvary_bad                                     0  ",
      "text/html": "<div>\n<style scoped>\n    .dataframe tbody tr th:only-of-type {\n        vertical-align: middle;\n    }\n\n    .dataframe tbody tr th {\n        vertical-align: top;\n    }\n\n    .dataframe thead th {\n        text-align: right;\n    }\n</style>\n<table border=\"1\" class=\"dataframe\">\n  <thead>\n    <tr style=\"text-align: right;\">\n      <th></th>\n      <th>11891</th>\n      <th>127542</th>\n      <th>180587</th>\n      <th>29815</th>\n      <th>66000</th>\n    </tr>\n  </thead>\n  <tbody>\n    <tr>\n      <th>majorid</th>\n      <td>20200203102748698_2</td>\n      <td>2020022110804247_2</td>\n      <td>20200227122060865_2</td>\n      <td>2020020610762615_1</td>\n      <td>2020021210712014_2</td>\n    </tr>\n    <tr>\n      <th>courier_id</th>\n      <td>102748698</td>\n      <td>10804247</td>\n      <td>122060865</td>\n      <td>10762615</td>\n      <td>10712014</td>\n    </tr>\n    <tr>\n      <th>wave_index</th>\n      <td>2</td>\n      <td>2</td>\n      <td>2</td>\n      <td>1</td>\n      <td>2</td>\n    </tr>\n    <tr>\n      <th>date</th>\n      <td>20200203</td>\n      <td>20200221</td>\n      <td>20200227</td>\n      <td>20200206</td>\n      <td>20200212</td>\n    </tr>\n    <tr>\n      <th>tracking_id</th>\n      <td>2100074646372452239</td>\n      <td>2100075404355864421</td>\n      <td>2100075822285685908</td>\n      <td>2100074766019724862</td>\n      <td>2100075009952187999</td>\n    </tr>\n    <tr>\n      <th>action_type</th>\n      <td>DELIVERY</td>\n      <td>PICKUP</td>\n      <td>PICKUP</td>\n      <td>DELIVERY</td>\n      <td>DELIVERY</td>\n    </tr>\n    <tr>\n      <th>last_tracking_id</th>\n      <td>2100074646384641935</td>\n      <td>2100075423940937573</td>\n      <td>2100075821644612854</td>\n      <td>2100074766019724862</td>\n      <td>2100075009952187999</td>\n    </tr>\n    <tr>\n      <th>last_action_type</th>\n      <td>PICKUP</td>\n      <td>PICKUP</td>\n      <td>DELIVERY</td>\n      <td>PICKUP</td>\n      <td>PICKUP</td>\n    </tr>\n    <tr>\n      <th>load</th>\n      <td>3</td>\n      <td>2</td>\n      <td>0</td>\n      <td>5</td>\n      <td>6</td>\n    </tr>\n    <tr>\n      <th>old_action_1</th>\n      <td>PICKUP</td>\n      <td>PICKUP</td>\n      <td>PICKUP</td>\n      <td>PICKUP</td>\n      <td>PICKUP</td>\n    </tr>\n    <tr>\n      <th>old_action_2</th>\n      <td>PICKUP</td>\n      <td>DELIVERY</td>\n      <td>DELIVERY</td>\n      <td>PICKUP</td>\n      <td>PICKUP</td>\n    </tr>\n    <tr>\n      <th>grid_distance</th>\n      <td>7.79647</td>\n      <td>0.693147</td>\n      <td>7.41156</td>\n      <td>7.8332</td>\n      <td>8.27078</td>\n    </tr>\n    <tr>\n      <th>target_tan</th>\n      <td>0.867875</td>\n      <td>1.7471</td>\n      <td>-1.01199</td>\n      <td>-0.635686</td>\n      <td>0.534409</td>\n    </tr>\n    <tr>\n      <th>target_MHD</th>\n      <td>7.10489</td>\n      <td>0</td>\n      <td>6.63069</td>\n      <td>7.51104</td>\n      <td>7.86277</td>\n    </tr>\n    <tr>\n      <th>level</th>\n      <td>3</td>\n      <td>3</td>\n      <td>3</td>\n      <td>3</td>\n      <td>3</td>\n    </tr>\n    <tr>\n      <th>speed</th>\n      <td>4.79992</td>\n      <td>6.73913</td>\n      <td>5.79056</td>\n      <td>3.68297</td>\n      <td>5.25236</td>\n    </tr>\n    <tr>\n      <th>max_load</th>\n      <td>11</td>\n      <td>10</td>\n      <td>9</td>\n      <td>9</td>\n      <td>10</td>\n    </tr>\n    <tr>\n      <th>weather_grade</th>\n      <td>1</td>\n      <td>1</td>\n      <td>1</td>\n      <td>1</td>\n      <td>2</td>\n    </tr>\n    <tr>\n      <th>delivery_tan</th>\n      <td>0.971555</td>\n      <td>-1.64297</td>\n      <td>0.426564</td>\n      <td>-0.595572</td>\n      <td>0.623992</td>\n    </tr>\n    <tr>\n      <th>delivery_MHD</th>\n      <td>7.10489</td>\n      <td>5.13819</td>\n      <td>7.58681</td>\n      <td>7.51104</td>\n      <td>7.86277</td>\n    </tr>\n    <tr>\n      <th>last_delivery_tan</th>\n      <td>0.968326</td>\n      <td>-1.64557</td>\n      <td>-0.246789</td>\n      <td>-0.598423</td>\n      <td>0.620847</td>\n    </tr>\n    <tr>\n      <th>last_delivery_MHD</th>\n      <td>7.10489</td>\n      <td>5.13819</td>\n      <td>7.90504</td>\n      <td>7.51104</td>\n      <td>7.86277</td>\n    </tr>\n    <tr>\n      <th>assigned_time</th>\n      <td>1580706729</td>\n      <td>1582262035</td>\n      <td>1582786519</td>\n      <td>1580963329</td>\n      <td>1581492049</td>\n    </tr>\n    <tr>\n      <th>promise_deliver_time</th>\n      <td>1580708739</td>\n      <td>1582263900</td>\n      <td>1582790088</td>\n      <td>1580966252</td>\n      <td>1581501035</td>\n    </tr>\n    <tr>\n      <th>estimate_pick_time</th>\n      <td>1580707185</td>\n      <td>1582209268</td>\n      <td>1582788290</td>\n      <td>1580964513</td>\n      <td>1581492395</td>\n    </tr>\n    <tr>\n      <th>delta_time_pc</th>\n      <td>0.339438</td>\n      <td>0.431011</td>\n      <td>0.554806</td>\n      <td>0.464059</td>\n      <td>0.431011</td>\n    </tr>\n    <tr>\n      <th>last_assigned_time</th>\n      <td>1580706789</td>\n      <td>1582261975</td>\n      <td>1582785259</td>\n      <td>1580963329</td>\n      <td>1581492049</td>\n    </tr>\n    <tr>\n      <th>last_promise_deliver_time</th>\n      <td>1580708817</td>\n      <td>1582263900</td>\n      <td>1582787718</td>\n      <td>1580966252</td>\n      <td>1581501035</td>\n    </tr>\n    <tr>\n      <th>last_estimate_pick_time</th>\n      <td>1580707322</td>\n      <td>1582258691</td>\n      <td>1582786281</td>\n      <td>1580964513</td>\n      <td>1581492395</td>\n    </tr>\n    <tr>\n      <th>last_delta_time_pc</th>\n      <td>0.351942</td>\n      <td>0.438705</td>\n      <td>0.421295</td>\n      <td>0.482014</td>\n      <td>0.438705</td>\n    </tr>\n    <tr>\n      <th>last_time</th>\n      <td>1580707211</td>\n      <td>1582263039</td>\n      <td>1582787082</td>\n      <td>1580963768</td>\n      <td>1581499638</td>\n    </tr>\n    <tr>\n      <th>expect_time</th>\n      <td>1580707773</td>\n      <td>1582263040</td>\n      <td>1582787437</td>\n      <td>1580965634</td>\n      <td>1581501113</td>\n    </tr>\n    <tr>\n      <th>label</th>\n      <td>0</td>\n      <td>1</td>\n      <td>1</td>\n      <td>0</td>\n      <td>0</td>\n    </tr>\n    <tr>\n      <th>courier_wave_start_lng</th>\n      <td>121.564</td>\n      <td>121.252</td>\n      <td>121.653</td>\n      <td>121.58</td>\n      <td>121.44</td>\n    </tr>\n    <tr>\n      <th>courier_wave_start_lat</th>\n      <td>39.1346</td>\n      <td>38.9529</td>\n      <td>39.1733</td>\n      <td>39.1773</td>\n      <td>39.1501</td>\n    </tr>\n    <tr>\n      <th>now_DELIVERY</th>\n      <td>1</td>\n      <td>0</td>\n      <td>0</td>\n      <td>1</td>\n      <td>1</td>\n    </tr>\n    <tr>\n      <th>now_PICKUP</th>\n      <td>0</td>\n      <td>1</td>\n      <td>1</td>\n      <td>0</td>\n      <td>0</td>\n    </tr>\n    <tr>\n      <th>last_DELIVERY</th>\n      <td>0</td>\n      <td>0</td>\n      <td>1</td>\n      <td>0</td>\n      <td>0</td>\n    </tr>\n    <tr>\n      <th>last_PICKUP</th>\n      <td>1</td>\n      <td>1</td>\n      <td>0</td>\n      <td>1</td>\n      <td>1</td>\n    </tr>\n    <tr>\n      <th>old1_DELIVERY</th>\n      <td>0</td>\n      <td>0</td>\n      <td>0</td>\n      <td>0</td>\n      <td>0</td>\n    </tr>\n    <tr>\n      <th>old1_PICKUP</th>\n      <td>1</td>\n      <td>1</td>\n      <td>1</td>\n      <td>1</td>\n      <td>1</td>\n    </tr>\n    <tr>\n      <th>old2_DELIVERY</th>\n      <td>0</td>\n      <td>1</td>\n      <td>1</td>\n      <td>0</td>\n      <td>0</td>\n    </tr>\n    <tr>\n      <th>old2_PICKUP</th>\n      <td>1</td>\n      <td>0</td>\n      <td>0</td>\n      <td>1</td>\n      <td>1</td>\n    </tr>\n    <tr>\n      <th>normal</th>\n      <td>1</td>\n      <td>1</td>\n      <td>1</td>\n      <td>1</td>\n      <td>0</td>\n    </tr>\n    <tr>\n      <th>a_bit_bad</th>\n      <td>0</td>\n      <td>0</td>\n      <td>0</td>\n      <td>0</td>\n      <td>1</td>\n    </tr>\n    <tr>\n      <th>bad</th>\n      <td>0</td>\n      <td>0</td>\n      <td>0</td>\n      <td>0</td>\n      <td>0</td>\n    </tr>\n    <tr>\n      <th>vary_bad</th>\n      <td>0</td>\n      <td>0</td>\n      <td>0</td>\n      <td>0</td>\n      <td>0</td>\n    </tr>\n  </tbody>\n</table>\n</div>"
     },
     "metadata": {},
     "execution_count": 4
    }
   ],
   "source": [
    "feature_train.head().T"
   ]
  },
  {
   "cell_type": "code",
   "execution_count": 5,
   "metadata": {},
   "outputs": [],
   "source": [
    "prediction = feature_test[['courier_id', 'wave_index', 'tracking_id', \n",
    "'courier_wave_start_lng', 'courier_wave_start_lat', \n",
    "'action_type', 'expect_time', 'date', 'majorid', 'label']]\n",
    "prediction['label'] = 0\n",
    "\n",
    "y_col = 'label'\n",
    "# x_col =['majorid', 'courier_id', 'wave_index', 'date', 'tracking_id',\n",
    "    #    'action_type', 'last_tracking_id', 'last_action_type', 'load',\n",
    "    #    'old_action_1', 'old_action_2', 'grid_distance', 'target_tan',\n",
    "    #    'target_MHD', 'level', 'speed', 'max_load', 'weather_grade',\n",
    "    #    'delivery_tan', 'delivery_MHD', 'last_delivery_tan',\n",
    "    #    'last_delivery_MHD', 'assigned_time', 'promise_deliver_time',\n",
    "    #    'estimate_pick_time', 'delta_time_pc', 'last_assigned_time',\n",
    "    #    'last_promise_deliver_time', 'last_estimate_pick_time',\n",
    "    #    'last_delta_time_pc', 'last_time', 'expect_time', 'label',\n",
    "    #    'courier_wave_start_lng', 'courier_wave_start_lat', 'now_DELIVERY',\n",
    "    #    'now_PICKUP', 'last_DELIVERY', 'last_PICKUP', 'old1_DELIVERY',\n",
    "    #    'old1_PICKUP', 'old2_DELIVERY', 'old2_PICKUP', 'normal', 'a_bit_bad',\n",
    "    #    'bad', 'vary_bad']\n",
    "x_col = ['load','grid_distance', 'target_tan', 'target_MHD', 'level', 'speed', 'max_load']\n",
    "\n",
    "model = lgb.LGBMClassifier(\n",
    "    boosting_type='gbdt',\n",
    "    # class_weight=\"is_unbalance\",\n",
    "                           num_leaves=50,\n",
    "                           max_depth=7,\n",
    "                           learning_rate=0.03,\n",
    "                           n_estimators=10000,\n",
    "                           subsample=0.8,\n",
    "                           feature_fraction=0.8,\n",
    "                           reg_alpha=0.8,\n",
    "                           reg_lambda=0.8,\n",
    "                           random_state=220,\n",
    "                           metric=None,\n",
    "                           n_jobs=-1\n",
    "                           )"
   ]
  },
  {
   "cell_type": "code",
   "execution_count": 6,
   "metadata": {},
   "outputs": [
    {
     "output_type": "stream",
     "name": "stdout",
     "text": "\nFold_1 Training ================================\n\nTraining until validation scores don't improve for 200 rounds\n[200]\ttrain's auc: 0.735093\tvalid's auc: 0.725382\nEarly stopping, best iteration is:\n[167]\ttrain's auc: 0.733756\tvalid's auc: 0.725472\n\nFold_2 Training ================================\n\nTraining until validation scores don't improve for 200 rounds\n[200]\ttrain's auc: 0.734827\tvalid's auc: 0.725629\n[400]\ttrain's auc: 0.742455\tvalid's auc: 0.725327\nEarly stopping, best iteration is:\n[215]\ttrain's auc: 0.735442\tvalid's auc: 0.725655\n\nFold_3 Training ================================\n\nTraining until validation scores don't improve for 200 rounds\n[200]\ttrain's auc: 0.733926\tvalid's auc: 0.72924\n[400]\ttrain's auc: 0.741647\tvalid's auc: 0.728985\nEarly stopping, best iteration is:\n[207]\ttrain's auc: 0.7342\tvalid's auc: 0.729261\n\nFold_4 Training ================================\n\nTraining until validation scores don't improve for 200 rounds\n[200]\ttrain's auc: 0.735144\tvalid's auc: 0.724868\n[400]\ttrain's auc: 0.742684\tvalid's auc: 0.724608\nEarly stopping, best iteration is:\n[236]\ttrain's auc: 0.736513\tvalid's auc: 0.724987\n\nFold_5 Training ================================\n\nTraining until validation scores don't improve for 200 rounds\n[200]\ttrain's auc: 0.735457\tvalid's auc: 0.723252\n[400]\ttrain's auc: 0.743313\tvalid's auc: 0.722905\nEarly stopping, best iteration is:\n[241]\ttrain's auc: 0.737098\tvalid's auc: 0.72328\n"
    }
   ],
   "source": [
    "oof = []\n",
    "df_importance_list = []\n",
    "n=5\n",
    "kfold = GroupKFold(n_splits=n)\n",
    "for fold_id, (trn_idx, val_idx) in enumerate(kfold.split(feature_train[x_col], feature_train[y_col], feature_train['majorid'])):\n",
    "    X_train = feature_train.iloc[trn_idx][x_col]\n",
    "    Y_train = feature_train.iloc[trn_idx][y_col]\n",
    "\n",
    "    X_val = feature_train.iloc[val_idx][x_col]\n",
    "    Y_val = feature_train.iloc[val_idx][y_col]\n",
    "\n",
    "    print('\\nFold_{} Training ================================\\n'.format(fold_id+1))\n",
    "\n",
    "    lgb_model = model.fit(\n",
    "        X_train,\n",
    "        Y_train,\n",
    "        eval_names=['train', 'valid'],\n",
    "        eval_set=[(X_train, Y_train), (X_val, Y_val)],\n",
    "        verbose=200,\n",
    "        eval_metric='auc',\n",
    "        early_stopping_rounds=200\n",
    "    )\n",
    "\n",
    "    pred_val = lgb_model.predict_proba(X_val, num_iteration=lgb_model.best_iteration_)[:, 1]\n",
    "    df_oof = feature_train.iloc[val_idx][[\"courier_id\", 'majorid', y_col]].copy()\n",
    "    df_oof['pred'] = pred_val\n",
    "    oof.append(df_oof)\n",
    "\n",
    "    pred_test = lgb_model.predict_proba(feature_test[x_col], num_iteration=lgb_model.best_iteration_)[:, 1]\n",
    "    prediction['label'] += pred_test / n\n",
    "\n",
    "    df_importance = pd.DataFrame({\n",
    "        'column': x_col,\n",
    "        'importance': lgb_model.feature_importances_,\n",
    "    })\n",
    "    df_importance_list.append(df_importance)"
   ]
  },
  {
   "cell_type": "code",
   "execution_count": 7,
   "metadata": {},
   "outputs": [
    {
     "output_type": "execute_result",
     "data": {
      "text/plain": "               majorid  courier_id  wave_index      date          tracking_id  \\\n0  20200301100002543_3   100002543           3  20200301  2100076045156320581   \n1  20200301100002543_3   100002543           3  20200301  2100076044413207877   \n2  20200301100002543_3   100002543           3  20200301  2100076045016368756   \n3  20200301100002543_3   100002543           3  20200301  2100076044139038021   \n4  20200301100006950_3   100006950           3  20200301  2100076085507393263   \n\n  action_type     last_tracking_id last_action_type  load old_action_1  \\\n0    DELIVERY  2100076044139038021           PICKUP     3       PICKUP   \n1      PICKUP  2100076044139038021           PICKUP     3       PICKUP   \n2    DELIVERY  2100076044139038021           PICKUP     3       PICKUP   \n3    DELIVERY  2100076044139038021           PICKUP     3       PICKUP   \n4    DELIVERY  2100076086461237066           PICKUP     2       PICKUP   \n\n  old_action_2  grid_distance  target_tan  target_MHD  level     speed  \\\n0       PICKUP       7.765145    1.642096    5.768373      3  5.536055   \n1       PICKUP       0.693147         NaN    0.000000      3  5.536055   \n2       PICKUP       8.217439    1.820522    4.787734      3  5.536055   \n3       PICKUP       7.805475    1.549883    6.129087      3  5.536055   \n4     DELIVERY       7.294377    0.102299    7.348138      2  5.108438   \n\n   max_load  weather_grade  delivery_tan  delivery_MHD  last_delivery_tan  \\\n0        10              1      1.658933      5.768373           1.563800   \n1        10              1      1.714542      5.480707           1.563800   \n2        10              1     -1.872481      4.381142           1.563800   \n3        10              1      1.565636      6.129087           1.563800   \n4         6              1      0.157160      7.399583           0.327814   \n\n   last_delivery_MHD  assigned_time  promise_deliver_time  estimate_pick_time  \\\n0           6.129087     1583036629            1583039154          1583037835   \n1           6.129087     1583036809            1583039641          1583038022   \n2           6.129087     1583037829            1583040530          1583038430   \n3           6.129087     1583037289            1583040204          1583038706   \n4           7.311422     1583060079            1583063178          1583061259   \n\n   delta_time_pc  last_assigned_time  last_promise_deliver_time  \\\n0       0.440905          1583037289                 1583040204   \n1       0.475031          1583037289                 1583040204   \n2       0.488795          1583037289                 1583040204   \n3       0.481743          1583037289                 1583040204   \n4       0.509157          1583060499                 1583063341   \n\n   last_estimate_pick_time  last_delta_time_pc   last_time  expect_time label  \\\n0               1583038706            0.289873  1583038335            0  None   \n1               1583038706            0.289873  1583038335            0  None   \n2               1583038706            0.289873  1583038335            0  None   \n3               1583038706            0.289873  1583038335            0  None   \n4               1583061483            0.279538  1583061548            0  None   \n\n   courier_wave_start_lng  courier_wave_start_lat  now_DELIVERY  now_PICKUP  \\\n0              121.634234               39.143629             1           0   \n1              121.634234               39.143629             0           1   \n2              121.634234               39.143629             1           0   \n3              121.634234               39.143629             1           0   \n4              121.412991               39.032091             1           0   \n\n   last_DELIVERY  last_PICKUP  old1_DELIVERY  old1_PICKUP  old2_DELIVERY  \\\n0              0            1              0            1              0   \n1              0            1              0            1              0   \n2              0            1              0            1              0   \n3              0            1              0            1              0   \n4              0            1              0            1              1   \n\n   old2_PICKUP  normal  a_bit_bad  bad  vary_bad  \n0            1       1          0    0         0  \n1            1       1          0    0         0  \n2            1       1          0    0         0  \n3            1       1          0    0         0  \n4            0       1          0    0         0  ",
      "text/html": "<div>\n<style scoped>\n    .dataframe tbody tr th:only-of-type {\n        vertical-align: middle;\n    }\n\n    .dataframe tbody tr th {\n        vertical-align: top;\n    }\n\n    .dataframe thead th {\n        text-align: right;\n    }\n</style>\n<table border=\"1\" class=\"dataframe\">\n  <thead>\n    <tr style=\"text-align: right;\">\n      <th></th>\n      <th>majorid</th>\n      <th>courier_id</th>\n      <th>wave_index</th>\n      <th>date</th>\n      <th>tracking_id</th>\n      <th>action_type</th>\n      <th>last_tracking_id</th>\n      <th>last_action_type</th>\n      <th>load</th>\n      <th>old_action_1</th>\n      <th>old_action_2</th>\n      <th>grid_distance</th>\n      <th>target_tan</th>\n      <th>target_MHD</th>\n      <th>level</th>\n      <th>speed</th>\n      <th>max_load</th>\n      <th>weather_grade</th>\n      <th>delivery_tan</th>\n      <th>delivery_MHD</th>\n      <th>last_delivery_tan</th>\n      <th>last_delivery_MHD</th>\n      <th>assigned_time</th>\n      <th>promise_deliver_time</th>\n      <th>estimate_pick_time</th>\n      <th>delta_time_pc</th>\n      <th>last_assigned_time</th>\n      <th>last_promise_deliver_time</th>\n      <th>last_estimate_pick_time</th>\n      <th>last_delta_time_pc</th>\n      <th>last_time</th>\n      <th>expect_time</th>\n      <th>label</th>\n      <th>courier_wave_start_lng</th>\n      <th>courier_wave_start_lat</th>\n      <th>now_DELIVERY</th>\n      <th>now_PICKUP</th>\n      <th>last_DELIVERY</th>\n      <th>last_PICKUP</th>\n      <th>old1_DELIVERY</th>\n      <th>old1_PICKUP</th>\n      <th>old2_DELIVERY</th>\n      <th>old2_PICKUP</th>\n      <th>normal</th>\n      <th>a_bit_bad</th>\n      <th>bad</th>\n      <th>vary_bad</th>\n    </tr>\n  </thead>\n  <tbody>\n    <tr>\n      <th>0</th>\n      <td>20200301100002543_3</td>\n      <td>100002543</td>\n      <td>3</td>\n      <td>20200301</td>\n      <td>2100076045156320581</td>\n      <td>DELIVERY</td>\n      <td>2100076044139038021</td>\n      <td>PICKUP</td>\n      <td>3</td>\n      <td>PICKUP</td>\n      <td>PICKUP</td>\n      <td>7.765145</td>\n      <td>1.642096</td>\n      <td>5.768373</td>\n      <td>3</td>\n      <td>5.536055</td>\n      <td>10</td>\n      <td>1</td>\n      <td>1.658933</td>\n      <td>5.768373</td>\n      <td>1.563800</td>\n      <td>6.129087</td>\n      <td>1583036629</td>\n      <td>1583039154</td>\n      <td>1583037835</td>\n      <td>0.440905</td>\n      <td>1583037289</td>\n      <td>1583040204</td>\n      <td>1583038706</td>\n      <td>0.289873</td>\n      <td>1583038335</td>\n      <td>0</td>\n      <td>None</td>\n      <td>121.634234</td>\n      <td>39.143629</td>\n      <td>1</td>\n      <td>0</td>\n      <td>0</td>\n      <td>1</td>\n      <td>0</td>\n      <td>1</td>\n      <td>0</td>\n      <td>1</td>\n      <td>1</td>\n      <td>0</td>\n      <td>0</td>\n      <td>0</td>\n    </tr>\n    <tr>\n      <th>1</th>\n      <td>20200301100002543_3</td>\n      <td>100002543</td>\n      <td>3</td>\n      <td>20200301</td>\n      <td>2100076044413207877</td>\n      <td>PICKUP</td>\n      <td>2100076044139038021</td>\n      <td>PICKUP</td>\n      <td>3</td>\n      <td>PICKUP</td>\n      <td>PICKUP</td>\n      <td>0.693147</td>\n      <td>NaN</td>\n      <td>0.000000</td>\n      <td>3</td>\n      <td>5.536055</td>\n      <td>10</td>\n      <td>1</td>\n      <td>1.714542</td>\n      <td>5.480707</td>\n      <td>1.563800</td>\n      <td>6.129087</td>\n      <td>1583036809</td>\n      <td>1583039641</td>\n      <td>1583038022</td>\n      <td>0.475031</td>\n      <td>1583037289</td>\n      <td>1583040204</td>\n      <td>1583038706</td>\n      <td>0.289873</td>\n      <td>1583038335</td>\n      <td>0</td>\n      <td>None</td>\n      <td>121.634234</td>\n      <td>39.143629</td>\n      <td>0</td>\n      <td>1</td>\n      <td>0</td>\n      <td>1</td>\n      <td>0</td>\n      <td>1</td>\n      <td>0</td>\n      <td>1</td>\n      <td>1</td>\n      <td>0</td>\n      <td>0</td>\n      <td>0</td>\n    </tr>\n    <tr>\n      <th>2</th>\n      <td>20200301100002543_3</td>\n      <td>100002543</td>\n      <td>3</td>\n      <td>20200301</td>\n      <td>2100076045016368756</td>\n      <td>DELIVERY</td>\n      <td>2100076044139038021</td>\n      <td>PICKUP</td>\n      <td>3</td>\n      <td>PICKUP</td>\n      <td>PICKUP</td>\n      <td>8.217439</td>\n      <td>1.820522</td>\n      <td>4.787734</td>\n      <td>3</td>\n      <td>5.536055</td>\n      <td>10</td>\n      <td>1</td>\n      <td>-1.872481</td>\n      <td>4.381142</td>\n      <td>1.563800</td>\n      <td>6.129087</td>\n      <td>1583037829</td>\n      <td>1583040530</td>\n      <td>1583038430</td>\n      <td>0.488795</td>\n      <td>1583037289</td>\n      <td>1583040204</td>\n      <td>1583038706</td>\n      <td>0.289873</td>\n      <td>1583038335</td>\n      <td>0</td>\n      <td>None</td>\n      <td>121.634234</td>\n      <td>39.143629</td>\n      <td>1</td>\n      <td>0</td>\n      <td>0</td>\n      <td>1</td>\n      <td>0</td>\n      <td>1</td>\n      <td>0</td>\n      <td>1</td>\n      <td>1</td>\n      <td>0</td>\n      <td>0</td>\n      <td>0</td>\n    </tr>\n    <tr>\n      <th>3</th>\n      <td>20200301100002543_3</td>\n      <td>100002543</td>\n      <td>3</td>\n      <td>20200301</td>\n      <td>2100076044139038021</td>\n      <td>DELIVERY</td>\n      <td>2100076044139038021</td>\n      <td>PICKUP</td>\n      <td>3</td>\n      <td>PICKUP</td>\n      <td>PICKUP</td>\n      <td>7.805475</td>\n      <td>1.549883</td>\n      <td>6.129087</td>\n      <td>3</td>\n      <td>5.536055</td>\n      <td>10</td>\n      <td>1</td>\n      <td>1.565636</td>\n      <td>6.129087</td>\n      <td>1.563800</td>\n      <td>6.129087</td>\n      <td>1583037289</td>\n      <td>1583040204</td>\n      <td>1583038706</td>\n      <td>0.481743</td>\n      <td>1583037289</td>\n      <td>1583040204</td>\n      <td>1583038706</td>\n      <td>0.289873</td>\n      <td>1583038335</td>\n      <td>0</td>\n      <td>None</td>\n      <td>121.634234</td>\n      <td>39.143629</td>\n      <td>1</td>\n      <td>0</td>\n      <td>0</td>\n      <td>1</td>\n      <td>0</td>\n      <td>1</td>\n      <td>0</td>\n      <td>1</td>\n      <td>1</td>\n      <td>0</td>\n      <td>0</td>\n      <td>0</td>\n    </tr>\n    <tr>\n      <th>4</th>\n      <td>20200301100006950_3</td>\n      <td>100006950</td>\n      <td>3</td>\n      <td>20200301</td>\n      <td>2100076085507393263</td>\n      <td>DELIVERY</td>\n      <td>2100076086461237066</td>\n      <td>PICKUP</td>\n      <td>2</td>\n      <td>PICKUP</td>\n      <td>DELIVERY</td>\n      <td>7.294377</td>\n      <td>0.102299</td>\n      <td>7.348138</td>\n      <td>2</td>\n      <td>5.108438</td>\n      <td>6</td>\n      <td>1</td>\n      <td>0.157160</td>\n      <td>7.399583</td>\n      <td>0.327814</td>\n      <td>7.311422</td>\n      <td>1583060079</td>\n      <td>1583063178</td>\n      <td>1583061259</td>\n      <td>0.509157</td>\n      <td>1583060499</td>\n      <td>1583063341</td>\n      <td>1583061483</td>\n      <td>0.279538</td>\n      <td>1583061548</td>\n      <td>0</td>\n      <td>None</td>\n      <td>121.412991</td>\n      <td>39.032091</td>\n      <td>1</td>\n      <td>0</td>\n      <td>0</td>\n      <td>1</td>\n      <td>0</td>\n      <td>1</td>\n      <td>1</td>\n      <td>0</td>\n      <td>1</td>\n      <td>0</td>\n      <td>0</td>\n      <td>0</td>\n    </tr>\n  </tbody>\n</table>\n</div>"
     },
     "metadata": {},
     "execution_count": 7
    }
   ],
   "source": [
    "feature_test.head()"
   ]
  },
  {
   "cell_type": "code",
   "execution_count": 8,
   "metadata": {},
   "outputs": [
    {
     "output_type": "execute_result",
     "data": {
      "text/plain": "(13322, 10)"
     },
     "metadata": {},
     "execution_count": 8
    }
   ],
   "source": [
    "prediction.shape"
   ]
  },
  {
   "cell_type": "code",
   "execution_count": 9,
   "metadata": {},
   "outputs": [],
   "source": [
    "prediction[\"expect_time\"]=feature_test[\"last_time\"]+100"
   ]
  },
  {
   "cell_type": "code",
   "execution_count": 10,
   "metadata": {},
   "outputs": [
    {
     "output_type": "execute_result",
     "data": {
      "text/plain": "          column  importance\n0  grid_distance      2381.8\n1     target_tan      2103.6\n2     target_MHD      1825.4\n3          speed      1789.4\n4           load      1345.6\n5       max_load       746.4\n6          level       254.6",
      "text/html": "<div>\n<style scoped>\n    .dataframe tbody tr th:only-of-type {\n        vertical-align: middle;\n    }\n\n    .dataframe tbody tr th {\n        vertical-align: top;\n    }\n\n    .dataframe thead th {\n        text-align: right;\n    }\n</style>\n<table border=\"1\" class=\"dataframe\">\n  <thead>\n    <tr style=\"text-align: right;\">\n      <th></th>\n      <th>column</th>\n      <th>importance</th>\n    </tr>\n  </thead>\n  <tbody>\n    <tr>\n      <th>0</th>\n      <td>grid_distance</td>\n      <td>2381.8</td>\n    </tr>\n    <tr>\n      <th>1</th>\n      <td>target_tan</td>\n      <td>2103.6</td>\n    </tr>\n    <tr>\n      <th>2</th>\n      <td>target_MHD</td>\n      <td>1825.4</td>\n    </tr>\n    <tr>\n      <th>3</th>\n      <td>speed</td>\n      <td>1789.4</td>\n    </tr>\n    <tr>\n      <th>4</th>\n      <td>load</td>\n      <td>1345.6</td>\n    </tr>\n    <tr>\n      <th>5</th>\n      <td>max_load</td>\n      <td>746.4</td>\n    </tr>\n    <tr>\n      <th>6</th>\n      <td>level</td>\n      <td>254.6</td>\n    </tr>\n  </tbody>\n</table>\n</div>"
     },
     "metadata": {},
     "execution_count": 10
    }
   ],
   "source": [
    "df_importance = pd.concat(df_importance_list)\n",
    "df_importance = df_importance.groupby(['column'])['importance'].agg('mean').sort_values(ascending=False).reset_index()\n",
    "df_importance"
   ]
  },
  {
   "cell_type": "code",
   "execution_count": 11,
   "metadata": {},
   "outputs": [],
   "source": [
    "def wave_label_func(group):\n",
    "    target_list = group['label'].values.tolist()\n",
    "    pred_list = group['pred'].values.tolist()\n",
    "    max_index = pred_list.index(max(pred_list))\n",
    "    if target_list[max_index] == 1:\n",
    "        return 1\n",
    "    else:\n",
    "        return 0"
   ]
  },
  {
   "cell_type": "code",
   "execution_count": 12,
   "metadata": {},
   "outputs": [
    {
     "output_type": "stream",
     "name": "stdout",
     "text": "acc: 0.7565095174051591\n"
    }
   ],
   "source": [
    "df_oof = pd.concat(oof)\n",
    "df_temp = df_oof.groupby(['majorid']).apply(wave_label_func).reset_index()\n",
    "df_temp.columns = ['majorid', 'label']\n",
    "acc = df_temp[df_temp['label'] == 1].shape[0] / df_temp.shape[0]\n",
    "print('acc:', acc)"
   ]
  },
  {
   "cell_type": "code",
   "execution_count": 13,
   "metadata": {},
   "outputs": [],
   "source": [
    "def result_func(majorid):\n",
    "    majorid = majorid.values.tolist()\n",
    "    max_index = majorid.index(max(majorid))\n",
    "    result = np.zeros(len(majorid))\n",
    "    result[max_index] = 1\n",
    "    return result"
   ]
  },
  {
   "cell_type": "code",
   "execution_count": 14,
   "metadata": {},
   "outputs": [],
   "source": [
    "prediction['rusult'] = prediction.groupby(['majorid'])['label'].transform(result_func)\n",
    "subfile = prediction[prediction['rusult'] == 1]"
   ]
  },
  {
   "cell_type": "code",
   "execution_count": 15,
   "metadata": {},
   "outputs": [],
   "source": [
    "result = subfile[['courier_id', 'wave_index', 'tracking_id', 'courier_wave_start_lng', 'courier_wave_start_lat', 'action_type', 'expect_time', 'date']]"
   ]
  },
  {
   "cell_type": "code",
   "execution_count": 20,
   "metadata": {},
   "outputs": [],
   "source": [
    "# import zipfile\n",
    "# os.makedirs('../action_predict/{}'.format('result'), exist_ok=True)\n",
    "# f = zipfile.ZipFile('../action_predict/{}.zip'.format('result'), 'w', zipfile.ZIP_DEFLATED)\n",
    "for date in result['date'].unique():\n",
    "    df_temp = result[prediction['date'] == date]\n",
    "    # dict_action={0:None,1:'PICKUP',2:\"DELIVERY\"}\n",
    "    # df_temp[\"action_type\"]=df_temp[\"action_type\"].map(dict_action)\n",
    "    # assert False\n",
    "    df_temp[\"courier_wave_start_lng\"]=df_temp[\"courier_wave_start_lng\"].round(6)\n",
    "    df_temp[\"courier_wave_start_lat\"]=df_temp[\"courier_wave_start_lat\"].round(6)\n",
    "    del df_temp['date']\n",
    "    df_temp.to_csv('../action_predict/action_{}.txt'.format(date), index=False)\n",
    "    # f.write('../action_predict/action_{}.txt'.format(date), 'action_{}.txt'.format(date))\n",
    "# f.close()"
   ]
  },
  {
   "cell_type": "code",
   "execution_count": 21,
   "metadata": {},
   "outputs": [
    {
     "output_type": "execute_result",
     "data": {
      "text/plain": "       courier_id  wave_index          tracking_id  courier_wave_start_lng  \\\n10414   100002543           0  2100076472460444744              121.644470   \n10417   100002652           0  2100076483679979410              121.559951   \n10420   100002652           2  2100076520321943315              121.580403   \n10422   100006950           2  2100076524356470084              121.405090   \n10426   100084429           0  2100076459080353111              121.255337   \n10427   100084429           2  2100076481663370502              121.262100   \n10430    10012191           0  2100076471646848007              121.521817   \n10433    10012191           2  2100076484725442041              121.530141   \n10439   100122337           0  2100076455181616167              121.593730   \n10443   100122337           2  2100076502798337304              121.580896   \n10445    10012508           2  2100076498334451131              121.528783   \n10447    10012508           6  2100076532432504632              121.523935   \n10450   100134611           2  2100076510691362674              121.377203   \n10454   100147671           0  2100076455540098200              121.428163   \n10457   100149376           0  2100076476688762607              121.443211   \n10459   100177162           0  2100076456682915520              121.619614   \n10463   100177162           2  2100076494076773848              121.606214   \n10465   100177162           4  2100076506557548019              121.605946   \n10468   100177162           6  2100076522679043713              121.616646   \n10473    10021791           0  2100076459466786584              121.446498   \n\n       courier_wave_start_lat action_type  expect_time  \n10414               39.135076      PICKUP   1583467132  \n10417               39.151688      PICKUP   1583471189  \n10420               39.151811      PICKUP   1583492977  \n10422               39.043030    DELIVERY   1583493871  \n10426               38.948718    DELIVERY   1583465582  \n10427               38.956129      PICKUP   1583470812  \n10430               39.206101      PICKUP   1583467947  \n10433               39.201457    DELIVERY   1583474668  \n10439               39.203980      PICKUP   1583466700  \n10443               39.211271      PICKUP   1583486519  \n10445               39.288767      PICKUP   1583480558  \n10447               39.297293      PICKUP   1583497726  \n10450               39.299072      PICKUP   1583487522  \n10454               39.196070      PICKUP   1583463882  \n10457               39.210668      PICKUP   1583468958  \n10459               39.118699      PICKUP   1583464166  \n10463               39.118467    DELIVERY   1583477930  \n10465               39.118458      PICKUP   1583485574  \n10468               39.110430      PICKUP   1583492937  \n10473               39.206096    DELIVERY   1583465492  ",
      "text/html": "<div>\n<style scoped>\n    .dataframe tbody tr th:only-of-type {\n        vertical-align: middle;\n    }\n\n    .dataframe tbody tr th {\n        vertical-align: top;\n    }\n\n    .dataframe thead th {\n        text-align: right;\n    }\n</style>\n<table border=\"1\" class=\"dataframe\">\n  <thead>\n    <tr style=\"text-align: right;\">\n      <th></th>\n      <th>courier_id</th>\n      <th>wave_index</th>\n      <th>tracking_id</th>\n      <th>courier_wave_start_lng</th>\n      <th>courier_wave_start_lat</th>\n      <th>action_type</th>\n      <th>expect_time</th>\n    </tr>\n  </thead>\n  <tbody>\n    <tr>\n      <th>10414</th>\n      <td>100002543</td>\n      <td>0</td>\n      <td>2100076472460444744</td>\n      <td>121.644470</td>\n      <td>39.135076</td>\n      <td>PICKUP</td>\n      <td>1583467132</td>\n    </tr>\n    <tr>\n      <th>10417</th>\n      <td>100002652</td>\n      <td>0</td>\n      <td>2100076483679979410</td>\n      <td>121.559951</td>\n      <td>39.151688</td>\n      <td>PICKUP</td>\n      <td>1583471189</td>\n    </tr>\n    <tr>\n      <th>10420</th>\n      <td>100002652</td>\n      <td>2</td>\n      <td>2100076520321943315</td>\n      <td>121.580403</td>\n      <td>39.151811</td>\n      <td>PICKUP</td>\n      <td>1583492977</td>\n    </tr>\n    <tr>\n      <th>10422</th>\n      <td>100006950</td>\n      <td>2</td>\n      <td>2100076524356470084</td>\n      <td>121.405090</td>\n      <td>39.043030</td>\n      <td>DELIVERY</td>\n      <td>1583493871</td>\n    </tr>\n    <tr>\n      <th>10426</th>\n      <td>100084429</td>\n      <td>0</td>\n      <td>2100076459080353111</td>\n      <td>121.255337</td>\n      <td>38.948718</td>\n      <td>DELIVERY</td>\n      <td>1583465582</td>\n    </tr>\n    <tr>\n      <th>10427</th>\n      <td>100084429</td>\n      <td>2</td>\n      <td>2100076481663370502</td>\n      <td>121.262100</td>\n      <td>38.956129</td>\n      <td>PICKUP</td>\n      <td>1583470812</td>\n    </tr>\n    <tr>\n      <th>10430</th>\n      <td>10012191</td>\n      <td>0</td>\n      <td>2100076471646848007</td>\n      <td>121.521817</td>\n      <td>39.206101</td>\n      <td>PICKUP</td>\n      <td>1583467947</td>\n    </tr>\n    <tr>\n      <th>10433</th>\n      <td>10012191</td>\n      <td>2</td>\n      <td>2100076484725442041</td>\n      <td>121.530141</td>\n      <td>39.201457</td>\n      <td>DELIVERY</td>\n      <td>1583474668</td>\n    </tr>\n    <tr>\n      <th>10439</th>\n      <td>100122337</td>\n      <td>0</td>\n      <td>2100076455181616167</td>\n      <td>121.593730</td>\n      <td>39.203980</td>\n      <td>PICKUP</td>\n      <td>1583466700</td>\n    </tr>\n    <tr>\n      <th>10443</th>\n      <td>100122337</td>\n      <td>2</td>\n      <td>2100076502798337304</td>\n      <td>121.580896</td>\n      <td>39.211271</td>\n      <td>PICKUP</td>\n      <td>1583486519</td>\n    </tr>\n    <tr>\n      <th>10445</th>\n      <td>10012508</td>\n      <td>2</td>\n      <td>2100076498334451131</td>\n      <td>121.528783</td>\n      <td>39.288767</td>\n      <td>PICKUP</td>\n      <td>1583480558</td>\n    </tr>\n    <tr>\n      <th>10447</th>\n      <td>10012508</td>\n      <td>6</td>\n      <td>2100076532432504632</td>\n      <td>121.523935</td>\n      <td>39.297293</td>\n      <td>PICKUP</td>\n      <td>1583497726</td>\n    </tr>\n    <tr>\n      <th>10450</th>\n      <td>100134611</td>\n      <td>2</td>\n      <td>2100076510691362674</td>\n      <td>121.377203</td>\n      <td>39.299072</td>\n      <td>PICKUP</td>\n      <td>1583487522</td>\n    </tr>\n    <tr>\n      <th>10454</th>\n      <td>100147671</td>\n      <td>0</td>\n      <td>2100076455540098200</td>\n      <td>121.428163</td>\n      <td>39.196070</td>\n      <td>PICKUP</td>\n      <td>1583463882</td>\n    </tr>\n    <tr>\n      <th>10457</th>\n      <td>100149376</td>\n      <td>0</td>\n      <td>2100076476688762607</td>\n      <td>121.443211</td>\n      <td>39.210668</td>\n      <td>PICKUP</td>\n      <td>1583468958</td>\n    </tr>\n    <tr>\n      <th>10459</th>\n      <td>100177162</td>\n      <td>0</td>\n      <td>2100076456682915520</td>\n      <td>121.619614</td>\n      <td>39.118699</td>\n      <td>PICKUP</td>\n      <td>1583464166</td>\n    </tr>\n    <tr>\n      <th>10463</th>\n      <td>100177162</td>\n      <td>2</td>\n      <td>2100076494076773848</td>\n      <td>121.606214</td>\n      <td>39.118467</td>\n      <td>DELIVERY</td>\n      <td>1583477930</td>\n    </tr>\n    <tr>\n      <th>10465</th>\n      <td>100177162</td>\n      <td>4</td>\n      <td>2100076506557548019</td>\n      <td>121.605946</td>\n      <td>39.118458</td>\n      <td>PICKUP</td>\n      <td>1583485574</td>\n    </tr>\n    <tr>\n      <th>10468</th>\n      <td>100177162</td>\n      <td>6</td>\n      <td>2100076522679043713</td>\n      <td>121.616646</td>\n      <td>39.110430</td>\n      <td>PICKUP</td>\n      <td>1583492937</td>\n    </tr>\n    <tr>\n      <th>10473</th>\n      <td>10021791</td>\n      <td>0</td>\n      <td>2100076459466786584</td>\n      <td>121.446498</td>\n      <td>39.206096</td>\n      <td>DELIVERY</td>\n      <td>1583465492</td>\n    </tr>\n  </tbody>\n</table>\n</div>"
     },
     "metadata": {},
     "execution_count": 21
    }
   ],
   "source": [
    "df_temp.head(20)"
   ]
  },
  {
   "cell_type": "code",
   "execution_count": null,
   "metadata": {},
   "outputs": [],
   "source": []
  }
 ]
}